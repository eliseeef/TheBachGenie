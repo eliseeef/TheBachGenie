{
 "cells": [
  {
   "cell_type": "code",
   "execution_count": 3,
   "id": "9a550663",
   "metadata": {},
   "outputs": [],
   "source": [
    "from bs4 import BeautifulSoup\n",
    "import requests\n",
    "import pandas as pd"
   ]
  },
  {
   "cell_type": "code",
   "execution_count": 4,
   "id": "78343dbd",
   "metadata": {},
   "outputs": [],
   "source": [
    "# CONSTANTS\n",
    "SEASONS = \"Seasons\"\n",
    "# The Bachelor Wikipedia \n",
    "WIKIPEDIA = \"https://en.wikipedia.org/\"\n",
    "BACHELOR_WIKI = \"wiki/The_Bachelor_(American_TV_series)\"\n",
    "\n",
    "CLASS_TAG = \"class\"\n",
    "SEASONS_TABLE_CLASS = \"wikitable plainrowheaders\"\n",
    "TABLE_ROW_TAG = \"tr\"\n",
    "TABLE_DATA_TAG = \"td\"\n",
    "TABLE_HEADER_TAG = \"th\"\n",
    "TABLE_TAG = \"table\"\n",
    "TABLE_BODY_TAG = \"tbody\"\n",
    "HYPERLINK_TAG = \"a\""
   ]
  },
  {
   "cell_type": "code",
   "execution_count": 13,
   "id": "624e31a4",
   "metadata": {},
   "outputs": [],
   "source": [
    "def clean_tag(value):\n",
    "    return str(value.text).strip()\n",
    "\n",
    "def get_row_values(table_value):\n",
    "    column_name_list = []\n",
    "    for value in table_value:\n",
    "        column_name_list.append(str(value.text).strip())\n",
    "    return column_name_list\n",
    "    \n",
    "def get_table_headers(rows):\n",
    "    column_names = []\n",
    "    for row in rows:\n",
    "        table_headers = row.find_all(TABLE_HEADER_TAG)\n",
    "        if table_headers:\n",
    "            column_names = get_row_values(table_headers)   \n",
    "            return column_names\n",
    "    return column_names\n",
    "\n",
    "def get_hyper_links(row, season_refs):\n",
    "#     print(\"HYPER \\n\\n\", row)\n",
    "    hrefs = row.find_all(HYPERLINK_TAG)\n",
    "    print(\"LENGTH \", len(hrefs))\n",
    "    if len(hrefs) > 2:\n",
    "        # I ONLY WANT THE FIRST REF BECAUSE IT IS RELATED TO THE SEASON\n",
    "#         print(\"TAG ONE \", hrefs[0])\n",
    "#         href = clean_tag(hrefs[0].find(HYPERLINK_TAG, href=True))\n",
    "        print(\"HREF 0 \", hrefs[0])\n",
    "        \n",
    "        soup = BeautifulSoup(hrefs[0], 'html.parser')\n",
    "        print(\"SOUP \", soup)\n",
    "        href_value = soup.a['href']\n",
    "        print(hrefs_value)\n",
    "#         print(\"FIRST \", hrefs[0].find(HYPERLINK_TAG, href=True))\n",
    "        \n",
    "#     print(\"\\n\\n\\nHYPERLINNKS \", hrefs)\n",
    "\n",
    "def get_table_data(rows, season_refs):\n",
    "    data_list = []\n",
    "    for row in rows:\n",
    "        get_hyper_links(row, season_refs)\n",
    "        table_data = row.find_all(TABLE_DATA_TAG)\n",
    "        if table_data:\n",
    "            new_row_values = get_row_values(table_data)\n",
    "            # NOTE: RUNNERS UP ISNT COMPLETELY ACCURATE\n",
    "            # BUT IT DOESN'T MATTER BECAUSE WE ONLY CARE ABOUT WINNERS\n",
    "            if len(new_row_values) > 1:\n",
    "                data_list.append(new_row_values)\n",
    "    return data_list\n",
    "\n",
    "# TODO, create a list of hyperlinks\n",
    "# TODO, fix the case where"
   ]
  },
  {
   "cell_type": "code",
   "execution_count": 14,
   "id": "387cf512",
   "metadata": {},
   "outputs": [
    {
     "name": "stdout",
     "output_type": "stream",
     "text": [
      "LENGTH  0\n",
      "LENGTH  4\n",
      "HREF 0  <a href=\"/wiki/The_Bachelor_(American_season_1)\" title=\"The Bachelor (American season 1)\">1</a>\n"
     ]
    },
    {
     "ename": "TypeError",
     "evalue": "'NoneType' object is not callable",
     "output_type": "error",
     "traceback": [
      "\u001b[0;31m---------------------------------------------------------------------------\u001b[0m",
      "\u001b[0;31mTypeError\u001b[0m                                 Traceback (most recent call last)",
      "Cell \u001b[0;32mIn[14], line 15\u001b[0m\n\u001b[1;32m     12\u001b[0m table_rows \u001b[38;5;241m=\u001b[39m new_soup\u001b[38;5;241m.\u001b[39mfind_all(TABLE_ROW_TAG)\n\u001b[1;32m     14\u001b[0m column_names \u001b[38;5;241m=\u001b[39m get_table_headers(table_rows)\n\u001b[0;32m---> 15\u001b[0m data_list \u001b[38;5;241m=\u001b[39m get_table_data(table_rows, season_refs)\n\u001b[1;32m     17\u001b[0m \u001b[38;5;66;03m# create data frame from wikipedia article\u001b[39;00m\n\u001b[1;32m     18\u001b[0m df \u001b[38;5;241m=\u001b[39m pd\u001b[38;5;241m.\u001b[39mDataFrame(data_list, columns\u001b[38;5;241m=\u001b[39mcolumn_names)\n",
      "Cell \u001b[0;32mIn[13], line 39\u001b[0m, in \u001b[0;36mget_table_data\u001b[0;34m(rows, season_refs)\u001b[0m\n\u001b[1;32m     37\u001b[0m data_list \u001b[38;5;241m=\u001b[39m []\n\u001b[1;32m     38\u001b[0m \u001b[38;5;28;01mfor\u001b[39;00m row \u001b[38;5;129;01min\u001b[39;00m rows:\n\u001b[0;32m---> 39\u001b[0m     get_hyper_links(row, season_refs)\n\u001b[1;32m     40\u001b[0m     table_data \u001b[38;5;241m=\u001b[39m row\u001b[38;5;241m.\u001b[39mfind_all(TABLE_DATA_TAG)\n\u001b[1;32m     41\u001b[0m     \u001b[38;5;28;01mif\u001b[39;00m table_data:\n",
      "Cell \u001b[0;32mIn[13], line 28\u001b[0m, in \u001b[0;36mget_hyper_links\u001b[0;34m(row, season_refs)\u001b[0m\n\u001b[1;32m     23\u001b[0m     \u001b[38;5;28;01mif\u001b[39;00m \u001b[38;5;28mlen\u001b[39m(hrefs) \u001b[38;5;241m>\u001b[39m \u001b[38;5;241m2\u001b[39m:\n\u001b[1;32m     24\u001b[0m         \u001b[38;5;66;03m# I ONLY WANT THE FIRST REF BECAUSE IT IS RELATED TO THE SEASON\u001b[39;00m\n\u001b[1;32m     25\u001b[0m \u001b[38;5;66;03m#         print(\"TAG ONE \", hrefs[0])\u001b[39;00m\n\u001b[1;32m     26\u001b[0m \u001b[38;5;66;03m#         href = clean_tag(hrefs[0].find(HYPERLINK_TAG, href=True))\u001b[39;00m\n\u001b[1;32m     27\u001b[0m         \u001b[38;5;28mprint\u001b[39m(\u001b[38;5;124m\"\u001b[39m\u001b[38;5;124mHREF 0 \u001b[39m\u001b[38;5;124m\"\u001b[39m, hrefs[\u001b[38;5;241m0\u001b[39m])\n\u001b[0;32m---> 28\u001b[0m         soup \u001b[38;5;241m=\u001b[39m BeautifulSoup(hrefs[\u001b[38;5;241m0\u001b[39m], \u001b[38;5;124m'\u001b[39m\u001b[38;5;124mhtml.parser\u001b[39m\u001b[38;5;124m'\u001b[39m)\n\u001b[1;32m     29\u001b[0m         \u001b[38;5;28mprint\u001b[39m(\u001b[38;5;124m\"\u001b[39m\u001b[38;5;124mSOUP \u001b[39m\u001b[38;5;124m\"\u001b[39m, soup)\n\u001b[1;32m     30\u001b[0m         href_value \u001b[38;5;241m=\u001b[39m soup\u001b[38;5;241m.\u001b[39ma[\u001b[38;5;124m'\u001b[39m\u001b[38;5;124mhref\u001b[39m\u001b[38;5;124m'\u001b[39m]\n",
      "File \u001b[0;32m~/anaconda3/lib/python3.11/site-packages/bs4/__init__.py:314\u001b[0m, in \u001b[0;36mBeautifulSoup.__init__\u001b[0;34m(self, markup, features, builder, parse_only, from_encoding, exclude_encodings, element_classes, **kwargs)\u001b[0m\n\u001b[1;32m    311\u001b[0m \u001b[38;5;28mself\u001b[39m\u001b[38;5;241m.\u001b[39mparse_only \u001b[38;5;241m=\u001b[39m parse_only\n\u001b[1;32m    313\u001b[0m \u001b[38;5;28;01mif\u001b[39;00m \u001b[38;5;28mhasattr\u001b[39m(markup, \u001b[38;5;124m'\u001b[39m\u001b[38;5;124mread\u001b[39m\u001b[38;5;124m'\u001b[39m):        \u001b[38;5;66;03m# It's a file-type object.\u001b[39;00m\n\u001b[0;32m--> 314\u001b[0m     markup \u001b[38;5;241m=\u001b[39m markup\u001b[38;5;241m.\u001b[39mread()\n\u001b[1;32m    315\u001b[0m \u001b[38;5;28;01melif\u001b[39;00m \u001b[38;5;28mlen\u001b[39m(markup) \u001b[38;5;241m<\u001b[39m\u001b[38;5;241m=\u001b[39m \u001b[38;5;241m256\u001b[39m \u001b[38;5;129;01mand\u001b[39;00m (\n\u001b[1;32m    316\u001b[0m         (\u001b[38;5;28misinstance\u001b[39m(markup, \u001b[38;5;28mbytes\u001b[39m) \u001b[38;5;129;01mand\u001b[39;00m \u001b[38;5;129;01mnot\u001b[39;00m \u001b[38;5;124mb\u001b[39m\u001b[38;5;124m'\u001b[39m\u001b[38;5;124m<\u001b[39m\u001b[38;5;124m'\u001b[39m \u001b[38;5;129;01min\u001b[39;00m markup)\n\u001b[1;32m    317\u001b[0m         \u001b[38;5;129;01mor\u001b[39;00m (\u001b[38;5;28misinstance\u001b[39m(markup, \u001b[38;5;28mstr\u001b[39m) \u001b[38;5;129;01mand\u001b[39;00m \u001b[38;5;129;01mnot\u001b[39;00m \u001b[38;5;124m'\u001b[39m\u001b[38;5;124m<\u001b[39m\u001b[38;5;124m'\u001b[39m \u001b[38;5;129;01min\u001b[39;00m markup)\n\u001b[0;32m   (...)\u001b[0m\n\u001b[1;32m    321\u001b[0m     \u001b[38;5;66;03m# Beautiful Soup will still parse the input as markup,\u001b[39;00m\n\u001b[1;32m    322\u001b[0m     \u001b[38;5;66;03m# since that is sometimes the intended behavior.\u001b[39;00m\n\u001b[1;32m    323\u001b[0m     \u001b[38;5;28;01mif\u001b[39;00m \u001b[38;5;129;01mnot\u001b[39;00m \u001b[38;5;28mself\u001b[39m\u001b[38;5;241m.\u001b[39m_markup_is_url(markup):\n",
      "\u001b[0;31mTypeError\u001b[0m: 'NoneType' object is not callable"
     ]
    }
   ],
   "source": [
    "# HERE I AM CREATING THE SEASONS CSV TO LOOK LIKE THE TABLE HERE\n",
    "# https://en.wikipedia.org/wiki/The_Bachelor_(American_TV_series)#Seasons\n",
    "\n",
    "html = requests.get(WIKIPEDIA+BACHELOR_WIKI)\n",
    "soup = BeautifulSoup(html.text)\n",
    "season_refs = []\n",
    "\n",
    "seasons_table = soup(TABLE_TAG, {CLASS_TAG:SEASONS_TABLE_CLASS})\n",
    "# create some new soup so we can use the find_all method\n",
    "new_soup = BeautifulSoup(str(seasons_table), 'html.parser')\n",
    "\n",
    "table_rows = new_soup.find_all(TABLE_ROW_TAG)\n",
    "\n",
    "column_names = get_table_headers(table_rows)\n",
    "data_list = get_table_data(table_rows, season_refs)\n",
    "\n",
    "# create data frame from wikipedia article\n",
    "df = pd.DataFrame(data_list, columns=column_names)\n",
    "# df.to_csv('./data/seasons.csv', index=False)\n",
    "\n",
    "print(season_refs)"
   ]
  },
  {
   "cell_type": "code",
   "execution_count": 7,
   "id": "34d08fe8",
   "metadata": {},
   "outputs": [
    {
     "name": "stdout",
     "output_type": "stream",
     "text": [
      "[]\n"
     ]
    }
   ],
   "source": [
    "print(season_refs)"
   ]
  },
  {
   "cell_type": "code",
   "execution_count": 8,
   "id": "ed6d43dd",
   "metadata": {},
   "outputs": [],
   "source": [
    "# get the bachelor name\n",
    "\n",
    "# get the link for the season\n",
    "\n",
    "# <td style=\"text-align:center;\"><b><a href=\"/wiki/The_Bachelor_(American_season_1)\" title=\"The Bachelor (American season 1)\">1</a></b>"
   ]
  }
 ],
 "metadata": {
  "kernelspec": {
   "display_name": "Python 3 (ipykernel)",
   "language": "python",
   "name": "python3"
  },
  "language_info": {
   "codemirror_mode": {
    "name": "ipython",
    "version": 3
   },
   "file_extension": ".py",
   "mimetype": "text/x-python",
   "name": "python",
   "nbconvert_exporter": "python",
   "pygments_lexer": "ipython3",
   "version": "3.11.5"
  }
 },
 "nbformat": 4,
 "nbformat_minor": 5
}
